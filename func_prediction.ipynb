{
 "cells": [
  {
   "cell_type": "code",
   "execution_count": 1,
   "metadata": {
    "ExecuteTime": {
     "end_time": "2021-03-19T08:04:18.383819Z",
     "start_time": "2021-03-19T08:04:14.937978Z"
    }
   },
   "outputs": [],
   "source": [
    "import dill as pickle\n",
    "import pandas as pd"
   ]
  },
  {
   "cell_type": "code",
   "execution_count": 4,
   "metadata": {
    "ExecuteTime": {
     "end_time": "2021-03-19T11:18:59.508762Z",
     "start_time": "2021-03-19T11:18:59.487259Z"
    }
   },
   "outputs": [],
   "source": [
    "def is_user_fat_3(user_data):\n",
    "    \n",
    "    #here is the code for converting numeric strings to numbers\n",
    "    fixed_list = []\n",
    "    for x in user_data:\n",
    "        if x.isdigit():\n",
    "            fixed_list.append(int(x))\n",
    "        else:\n",
    "            fixed_list.append(x)\n",
    "        \n",
    "    \n",
    "    # here is the transformation of the user's sheet into a dataframe  \n",
    "    test = pd.DataFrame({'Gender': [fixed_list[0]],\n",
    "                     'Age': [fixed_list[1]], \n",
    "                     'Height': [fixed_list[2]], \n",
    "                     'Weight': [fixed_list[3]],\n",
    "                    'family_history_with_overweight': [fixed_list[4]],\n",
    "                    'FAVC': [fixed_list[5]],\n",
    "                    'FCVC': [fixed_list[6]],\n",
    "                    'NCP': [fixed_list[7]],\n",
    "                    'CAEC': [fixed_list[8]],\n",
    "                    'SMOKE': [fixed_list[9]],\n",
    "                    'CH2O': [fixed_list[10]],\n",
    "                    'SCC': [fixed_list[11]],\n",
    "                    'FAF': [fixed_list[12]],\n",
    "                    'TUE': [fixed_list[13]],\n",
    "                    'CALC': [fixed_list[14]],\n",
    "                    'MTRANS': [fixed_list[15]]})\n",
    "    \n",
    "    # load the model\n",
    "    with open('model_Obesity.pk' ,'rb') as f:\n",
    "        loaded_model_Normal = pickle.load(f)\n",
    "    \n",
    "    #predict\n",
    "    predictions = loaded_model_Normal.predict(test)\n",
    "\n",
    "    return predictions[0]"
   ]
  }
 ],
 "metadata": {
  "kernelspec": {
   "display_name": "Python 3",
   "language": "python",
   "name": "python3"
  },
  "language_info": {
   "codemirror_mode": {
    "name": "ipython",
    "version": 3
   },
   "file_extension": ".py",
   "mimetype": "text/x-python",
   "name": "python",
   "nbconvert_exporter": "python",
   "pygments_lexer": "ipython3",
   "version": "3.8.3"
  }
 },
 "nbformat": 4,
 "nbformat_minor": 4
}
